{
 "cells": [
  {
   "cell_type": "code",
   "execution_count": 11,
   "metadata": {},
   "outputs": [],
   "source": [
    "using PyCall, PyPlot, JuMP\n",
    "using MARGO"
   ]
  },
  {
   "cell_type": "code",
   "execution_count": 5,
   "metadata": {},
   "outputs": [
    {
     "name": "stdout",
     "output_type": "stream",
     "text": [
      "\u001b[32m\u001b[1m  Updating\u001b[22m\u001b[39m registry at `~/.julia/registries/General`\n",
      "\u001b[32m\u001b[1m  Updating\u001b[22m\u001b[39m git-repo `https://github.com/JuliaRegistries/General.git`\n",
      "\u001b[2K\u001b[?25h[1mFetching:\u001b[22m\u001b[39m [========================================>]  100.0 %.0 %\u001b[32m\u001b[1m  Updating\u001b[22m\u001b[39m registry at `~/.julia/registries/MimiRegistry`\n",
      "\u001b[32m\u001b[1m  Updating\u001b[22m\u001b[39m git-repo `https://github.com/mimiframework/MimiRegistry.git`\n",
      "\u001b[?25l\u001b[2K\u001b[?25h\u001b[32m\u001b[1m Resolving\u001b[22m\u001b[39m package versions...\n",
      "\u001b[32m\u001b[1m  Updating\u001b[22m\u001b[39m `~/Documents/code/MARGO.jl/Project.toml`\n",
      " \u001b[90m [861a8166]\u001b[39m\u001b[92m + Combinatorics v1.0.2\u001b[39m\n",
      "\u001b[32m\u001b[1m  Updating\u001b[22m\u001b[39m `~/Documents/code/MARGO.jl/Manifest.toml`\n",
      " \u001b[90m [861a8166]\u001b[39m\u001b[92m + Combinatorics v1.0.2\u001b[39m\n"
     ]
    }
   ],
   "source": [
    "] add Combinatorics"
   ]
  },
  {
   "cell_type": "code",
   "execution_count": 6,
   "metadata": {},
   "outputs": [
    {
     "name": "stderr",
     "output_type": "stream",
     "text": [
      "┌ Info: Precompiling Combinatorics [861a8166-3701-5b0c-9a16-15d98fcdc6aa]\n",
      "└ @ Base loading.jl:1273\n"
     ]
    }
   ],
   "source": [
    "using Combinatorics"
   ]
  },
  {
   "cell_type": "markdown",
   "metadata": {},
   "source": [
    "# Optimizating the Global Climate Action Policy Portfolio"
   ]
  },
  {
   "cell_type": "code",
   "execution_count": 7,
   "metadata": {},
   "outputs": [
    {
     "data": {
      "text/plain": [
       "Dict{String,Float64} with 4 entries:\n",
       "  \"geoeng\"   => 1.0\n",
       "  \"mitigate\" => 1.0\n",
       "  \"remove\"   => 1.0\n",
       "  \"adapt\"    => 0.4"
      ]
     },
     "execution_count": 7,
     "metadata": {},
     "output_type": "execute_result"
    }
   ],
   "source": [
    "model_og = ClimateModel();\n",
    "max_deployment_og = Dict(\"mitigate\"=>1., \"remove\"=>1., \"geoeng\"=>1., \"adapt\"=>0.4)"
   ]
  },
  {
   "cell_type": "code",
   "execution_count": 8,
   "metadata": {},
   "outputs": [],
   "source": [
    "controls = collect(keys(max_deployment_og));"
   ]
  },
  {
   "cell_type": "code",
   "execution_count": 9,
   "metadata": {},
   "outputs": [
    {
     "data": {
      "text/plain": [
       "15-element Array{Array{String,1},1}:\n",
       " [\"geoeng\"]                               \n",
       " [\"mitigate\"]                             \n",
       " [\"remove\"]                               \n",
       " [\"adapt\"]                                \n",
       " [\"geoeng\", \"mitigate\"]                   \n",
       " [\"geoeng\", \"remove\"]                     \n",
       " [\"geoeng\", \"adapt\"]                      \n",
       " [\"mitigate\", \"remove\"]                   \n",
       " [\"mitigate\", \"adapt\"]                    \n",
       " [\"remove\", \"adapt\"]                      \n",
       " [\"geoeng\", \"mitigate\", \"remove\"]         \n",
       " [\"geoeng\", \"mitigate\", \"adapt\"]          \n",
       " [\"geoeng\", \"remove\", \"adapt\"]            \n",
       " [\"mitigate\", \"remove\", \"adapt\"]          \n",
       " [\"geoeng\", \"mitigate\", \"remove\", \"adapt\"]"
      ]
     },
     "execution_count": 9,
     "metadata": {},
     "output_type": "execute_result"
    }
   ],
   "source": [
    "control_permutations = combinations(controls) |> collect"
   ]
  },
  {
   "cell_type": "code",
   "execution_count": 12,
   "metadata": {},
   "outputs": [
    {
     "name": "stdout",
     "output_type": "stream",
     "text": [
      "Solve_Succeeded\n",
      "  0.085605 seconds (320.22 k allocations: 8.069 MiB, 15.98% gc time)\n",
      "Solve_Succeeded\n",
      "  0.314386 seconds (827.60 k allocations: 16.110 MiB)\n",
      "Infeasible_Problem_Detected\n",
      "  0.162303 seconds (300.15 k allocations: 7.491 MiB, 9.50% gc time)\n",
      "Infeasible_Problem_Detected\n",
      "  6.475427 seconds (18.66 M allocations: 305.089 MiB, 0.65% gc time)\n",
      "Solve_Succeeded\n",
      "  0.042581 seconds (96.16 k allocations: 4.142 MiB)\n",
      "Solve_Succeeded\n",
      "  0.026941 seconds (75.15 k allocations: 3.760 MiB)\n",
      "Solve_Succeeded\n",
      "  0.038576 seconds (102.98 k allocations: 4.257 MiB)\n",
      "Solve_Succeeded\n",
      "  0.048821 seconds (113.05 k allocations: 4.447 MiB)\n",
      "Solve_Succeeded\n",
      "  0.048205 seconds (116.69 k allocations: 4.516 MiB)\n",
      "Solve_Succeeded\n",
      "  0.062988 seconds (173.17 k allocations: 5.471 MiB)\n",
      "Solve_Succeeded\n",
      "  0.040926 seconds (101.26 k allocations: 4.280 MiB)\n",
      "Solve_Succeeded\n",
      "  0.039301 seconds (101.72 k allocations: 4.291 MiB)\n",
      "Solve_Succeeded\n",
      "  0.056818 seconds (101.40 k allocations: 4.290 MiB, 23.73% gc time)\n",
      "Solve_Succeeded\n",
      "  0.055267 seconds (128.73 k allocations: 4.789 MiB)\n",
      "Solve_Succeeded\n",
      "  0.041842 seconds (109.77 k allocations: 4.484 MiB)\n"
     ]
    }
   ],
   "source": [
    "results = Dict()\n",
    "\n",
    "for control_permutation in control_permutations\n",
    "    model = ClimateModel();\n",
    "    \n",
    "    # Assert that some controls not be deployed\n",
    "    max_deployment = copy(max_deployment_og)\n",
    "    for control in controls\n",
    "        if ~(control in control_permutation)\n",
    "            max_deployment[control] = 0.\n",
    "            # Override initial condition constraints\n",
    "            if ~isnothing(getfield(model.economics, Symbol(string(control,\"_init\"))))\n",
    "                setfield!(model.economics, Symbol(string(control,\"_init\")), 0.)\n",
    "            end\n",
    "        end\n",
    "    end\n",
    "    @time m = optimize_controls!(model, max_deployment = max_deployment, temp_goal=2.0);\n",
    "    \n",
    "    results[control_permutation] = Dict(\"model\" => model, \"NPV\" => MARGO.discounted_total_control_cost(model), \"status\" => raw_status(m))\n",
    "    \n",
    "end"
   ]
  },
  {
   "cell_type": "code",
   "execution_count": 13,
   "metadata": {},
   "outputs": [
    {
     "name": "stdout",
     "output_type": "stream",
     "text": [
      "[\"geoeng\", \"mitigate\", \"remove\"], 143, 5%\n",
      "[\"remove\"] has no solution.\n",
      "[\"mitigate\", \"remove\"], 188, 38%\n",
      "[\"mitigate\"], 322, 137%\n",
      "[\"geoeng\", \"mitigate\", \"remove\", \"adapt\"], 136, 0%\n",
      "[\"geoeng\", \"adapt\"], 304, 124%\n",
      "[\"geoeng\", \"mitigate\", \"adapt\"], 181, 33%\n",
      "[\"mitigate\", \"remove\", \"adapt\"], 178, 31%\n",
      "[\"geoeng\"], 412, 204%\n",
      "[\"geoeng\", \"remove\", \"adapt\"], 221, 63%\n",
      "[\"mitigate\", \"adapt\"], 277, 104%\n",
      "[\"geoeng\", \"mitigate\"], 199, 47%\n",
      "[\"remove\", \"adapt\"], 485, 257%\n",
      "[\"geoeng\", \"remove\"], 268, 97%\n",
      "[\"adapt\"] has no solution.\n"
     ]
    }
   ],
   "source": [
    "min_value = Inf\n",
    "for (index, value) in pairs(results)\n",
    "    if (value[\"status\"] == \"Solve_Succeeded\") & (value[\"NPV\"] < min_value)\n",
    "        min_value = value[\"NPV\"]\n",
    "    end\n",
    "end\n",
    "\n",
    "for (index, value) in pairs(results)\n",
    "    if (value[\"status\"] == \"Solve_Succeeded\")\n",
    "        abs_value = Int64(round((value[\"NPV\"])))\n",
    "        rel_value = Int64(round((value[\"NPV\"]/min_value - 1.)*100))\n",
    "        print(\"$index, $abs_value, $rel_value%\\n\")\n",
    "    else\n",
    "        print(\"$index has no solution.\\n\")\n",
    "    end\n",
    "end\n"
   ]
  },
  {
   "cell_type": "code",
   "execution_count": null,
   "metadata": {},
   "outputs": [],
   "source": []
  },
  {
   "cell_type": "code",
   "execution_count": null,
   "metadata": {},
   "outputs": [],
   "source": []
  }
 ],
 "metadata": {
  "kernelspec": {
   "display_name": "Julia 1.3.1",
   "language": "julia",
   "name": "julia-1.3"
  },
  "language_info": {
   "file_extension": ".jl",
   "mimetype": "application/julia",
   "name": "julia",
   "version": "1.3.1"
  }
 },
 "nbformat": 4,
 "nbformat_minor": 4
}
