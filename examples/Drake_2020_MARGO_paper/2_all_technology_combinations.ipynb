{
 "cells": [
  {
   "cell_type": "code",
   "execution_count": 1,
   "metadata": {},
   "outputs": [],
   "source": [
    "using PyCall, PyPlot, JuMP\n",
    "using ClimateMARGO"
   ]
  },
  {
   "cell_type": "code",
   "execution_count": 2,
   "metadata": {},
   "outputs": [
    {
     "name": "stdout",
     "output_type": "stream",
     "text": [
      "\u001b[32m\u001b[1m  Updating\u001b[22m\u001b[39m registry at `~/.julia/registries/General`\n",
      "\u001b[32m\u001b[1m  Updating\u001b[22m\u001b[39m git-repo `https://github.com/JuliaRegistries/General.git`\n",
      "\u001b[2K\u001b[?25h[1mFetching:\u001b[22m\u001b[39m [========================================>]  100.0 %.0 %                                 ]  15.2 % %                     ]  45.4 %2 %           ]  70.4 %\u001b[36m\u001b[1mFetching:\u001b[22m\u001b[39m [==============================>          ]  73.4 %    ]  88.5 %\u001b[32m\u001b[1m  Updating\u001b[22m\u001b[39m registry at `~/.julia/registries/MimiRegistry`\n",
      "\u001b[32m\u001b[1m  Updating\u001b[22m\u001b[39m git-repo `https://github.com/mimiframework/MimiRegistry.git`\n",
      "\u001b[?25l\u001b[2K\u001b[?25h\u001b[32m\u001b[1m Resolving\u001b[22m\u001b[39m package versions...\n",
      "\u001b[32m\u001b[1m   Cloning\u001b[22m\u001b[39m [53c48c17-4a7d-5ca2-90c5-79b7896eea93] FixedPointNumbers from https://github.com/JuliaMath/FixedPointNumbers.jl.git\n",
      "\u001b[2K\u001b[?25h\u001b[32m\u001b[1m Installed\u001b[22m\u001b[39m FixedPointNumbers ─ v0.8.1========>]  100.0 %.0 % [========>                                ]  19.6 %]  39.1 %========================>                ]  58.8 %]  78.2 %\u001b[36m\u001b[1mFetching:\u001b[22m\u001b[39m [=================================>       ]  81.2 %\n",
      "\u001b[32m\u001b[1m  Updating\u001b[22m\u001b[39m git-repo `https://github.com/JuliaGraphics/ColorTypes.jl.git`\n",
      "\u001b[2K\u001b[?25h\u001b[32m\u001b[1m Installed\u001b[22m\u001b[39m ColorTypes ──────── v0.10.4=======>]  100.0 %.0 %===========>                             ]  25.9 %>                       ]  40.8 % [===========================>             ]  66.7 %   ]  92.3 %\n",
      "\u001b[32m\u001b[1m  Updating\u001b[22m\u001b[39m git-repo `https://github.com/JuliaCollections/DataStructures.jl.git`\n",
      "\u001b[2K\u001b[?25h\u001b[32m\u001b[1m Installed\u001b[22m\u001b[39m DataStructures ──── v0.17.18======>]  100.0 %.0 % [==========>                              ]  23.2 %]  46.3 % [============================>            ]  69.5 %>]  99.0 %\n",
      "\u001b[32m\u001b[1m  Updating\u001b[22m\u001b[39m `~/Documents/code/ClimateMARGO.jl/Project.toml`\n",
      " \u001b[90m [861a8166]\u001b[39m\u001b[92m + Combinatorics v1.0.2\u001b[39m\n",
      "\u001b[32m\u001b[1m  Updating\u001b[22m\u001b[39m `~/Documents/code/ClimateMARGO.jl/Manifest.toml`\n",
      " \u001b[90m [3da002f7]\u001b[39m\u001b[93m ↑ ColorTypes v0.10.3 ⇒ v0.10.4\u001b[39m\n",
      " \u001b[90m [5ae59095]\u001b[39m\u001b[93m ↑ Colors v0.12.1 ⇒ v0.12.2\u001b[39m\n",
      " \u001b[90m [861a8166]\u001b[39m\u001b[92m + Combinatorics v1.0.2\u001b[39m\n",
      " \u001b[90m [864edb3b]\u001b[39m\u001b[93m ↑ DataStructures v0.17.17 ⇒ v0.17.18\u001b[39m\n",
      " \u001b[90m [53c48c17]\u001b[39m\u001b[93m ↑ FixedPointNumbers v0.8.0 ⇒ v0.8.1\u001b[39m\n",
      " \u001b[90m [7d188eb4]\u001b[39m\u001b[93m ↑ JSONSchema v0.2.0 ⇒ v0.3.0\u001b[39m\n",
      " \u001b[90m [d00139f3]\u001b[39m\u001b[93m ↑ METIS_jll v5.1.0+3 ⇒ v5.1.0+4\u001b[39m\n",
      " \u001b[90m [b8f27783]\u001b[39m\u001b[93m ↑ MathOptInterface v0.9.13 ⇒ v0.9.14\u001b[39m\n",
      " \u001b[90m [69de0a69]\u001b[39m\u001b[93m ↑ Parsers v1.0.4 ⇒ v1.0.5\u001b[39m\n",
      " \u001b[90m [c2297ded]\u001b[39m\u001b[93m ↑ ZMQ v1.2.0 ⇒ v1.2.1\u001b[39m\n",
      " \u001b[90m [8f1865be]\u001b[39m\u001b[93m ↑ ZeroMQ_jll v4.3.2+3 ⇒ v4.3.2+4\u001b[39m\n",
      " \u001b[90m [a5390f91]\u001b[39m\u001b[92m + ZipFile v0.9.2\u001b[39m\n"
     ]
    }
   ],
   "source": [
    "] add Combinatorics"
   ]
  },
  {
   "cell_type": "code",
   "execution_count": 3,
   "metadata": {},
   "outputs": [],
   "source": [
    "using Combinatorics"
   ]
  },
  {
   "cell_type": "markdown",
   "metadata": {},
   "source": [
    "# Optimizating the Global Climate Action Policy Portfolio"
   ]
  },
  {
   "cell_type": "code",
   "execution_count": 4,
   "metadata": {},
   "outputs": [
    {
     "data": {
      "text/plain": [
       "Dict{String,Float64} with 4 entries:\n",
       "  \"geoeng\"   => 1.0\n",
       "  \"mitigate\" => 1.0\n",
       "  \"remove\"   => 1.0\n",
       "  \"adapt\"    => 0.4"
      ]
     },
     "execution_count": 4,
     "metadata": {},
     "output_type": "execute_result"
    }
   ],
   "source": [
    "model_og = ClimateModel();\n",
    "max_deployment_og = Dict(\"mitigate\"=>1., \"remove\"=>1., \"geoeng\"=>1., \"adapt\"=>0.4)"
   ]
  },
  {
   "cell_type": "code",
   "execution_count": 5,
   "metadata": {},
   "outputs": [],
   "source": [
    "controls = collect(keys(max_deployment_og));"
   ]
  },
  {
   "cell_type": "code",
   "execution_count": 6,
   "metadata": {},
   "outputs": [
    {
     "data": {
      "text/plain": [
       "15-element Array{Array{String,1},1}:\n",
       " [\"geoeng\"]                               \n",
       " [\"mitigate\"]                             \n",
       " [\"remove\"]                               \n",
       " [\"adapt\"]                                \n",
       " [\"geoeng\", \"mitigate\"]                   \n",
       " [\"geoeng\", \"remove\"]                     \n",
       " [\"geoeng\", \"adapt\"]                      \n",
       " [\"mitigate\", \"remove\"]                   \n",
       " [\"mitigate\", \"adapt\"]                    \n",
       " [\"remove\", \"adapt\"]                      \n",
       " [\"geoeng\", \"mitigate\", \"remove\"]         \n",
       " [\"geoeng\", \"mitigate\", \"adapt\"]          \n",
       " [\"geoeng\", \"remove\", \"adapt\"]            \n",
       " [\"mitigate\", \"remove\", \"adapt\"]          \n",
       " [\"geoeng\", \"mitigate\", \"remove\", \"adapt\"]"
      ]
     },
     "execution_count": 6,
     "metadata": {},
     "output_type": "execute_result"
    }
   ],
   "source": [
    "control_permutations = combinations(controls) |> collect"
   ]
  },
  {
   "cell_type": "code",
   "execution_count": 7,
   "metadata": {},
   "outputs": [
    {
     "name": "stdout",
     "output_type": "stream",
     "text": [
      "\n",
      "******************************************************************************\n",
      "This program contains Ipopt, a library for large-scale nonlinear optimization.\n",
      " Ipopt is released as open source code under the Eclipse Public License (EPL).\n",
      "         For more information visit http://projects.coin-or.org/Ipopt\n",
      "******************************************************************************\n",
      "\n",
      "Solve_Succeeded\n",
      " 37.607116 seconds (114.87 M allocations: 6.511 GiB, 6.04% gc time)\n",
      "Solve_Succeeded\n",
      "  0.273680 seconds (368.39 k allocations: 8.579 MiB)\n",
      "Infeasible_Problem_Detected\n",
      "  0.827848 seconds (1.66 M allocations: 29.776 MiB, 3.53% gc time)\n",
      "Infeasible_Problem_Detected\n",
      "  2.330643 seconds (1.93 M allocations: 34.447 MiB)\n",
      "Solve_Succeeded\n",
      "  0.070496 seconds (96.33 k allocations: 4.154 MiB)\n",
      "Solve_Succeeded\n",
      "  0.049572 seconds (92.68 k allocations: 4.065 MiB)\n",
      "Solve_Succeeded\n",
      "  0.068749 seconds (103.00 k allocations: 4.259 MiB)\n",
      "Solve_Succeeded\n",
      "  0.077293 seconds (116.36 k allocations: 4.523 MiB)\n",
      "Solve_Succeeded\n",
      "  0.078234 seconds (116.85 k allocations: 4.529 MiB)\n",
      "Infeasible_Problem_Detected\n",
      "  1.463624 seconds (3.16 M allocations: 56.141 MiB, 2.15% gc time)\n",
      "Solve_Succeeded\n",
      "  0.069739 seconds (101.42 k allocations: 4.293 MiB)\n",
      "Solve_Succeeded\n",
      "  0.068862 seconds (102.03 k allocations: 4.313 MiB)\n",
      "Solve_Succeeded\n",
      "  0.073151 seconds (113.48 k allocations: 4.502 MiB)\n",
      "Solve_Succeeded\n",
      "  0.080243 seconds (128.06 k allocations: 4.801 MiB)\n",
      "Solve_Succeeded\n",
      "  0.070352 seconds (109.93 k allocations: 4.496 MiB)\n"
     ]
    }
   ],
   "source": [
    "results = Dict()\n",
    "\n",
    "for control_permutation in control_permutations\n",
    "    model = ClimateModel();\n",
    "    \n",
    "    # Assert that some controls not be deployed\n",
    "    max_deployment = copy(max_deployment_og)\n",
    "    for control in controls\n",
    "        if ~(control in control_permutation)\n",
    "            max_deployment[control] = 0.\n",
    "            # Override initial condition constraints\n",
    "            if ~isnothing(getfield(model.economics, Symbol(string(control,\"_init\"))))\n",
    "                setfield!(model.economics, Symbol(string(control,\"_init\")), 0.)\n",
    "            end\n",
    "        end\n",
    "    end\n",
    "    @time m = optimize_controls!(model, max_deployment = max_deployment, temp_goal=2.0);\n",
    "    \n",
    "    results[control_permutation] = Dict(\"model\" => model, \"NPV\" => discounted_total_control_cost(model), \"status\" => raw_status(m))\n",
    "    \n",
    "end"
   ]
  },
  {
   "cell_type": "code",
   "execution_count": 8,
   "metadata": {},
   "outputs": [
    {
     "name": "stdout",
     "output_type": "stream",
     "text": [
      "[\"geoeng\", \"mitigate\", \"remove\"], 181, 8%\n",
      "[\"remove\"] has no solution.\n",
      "[\"mitigate\", \"remove\"], 257, 53%\n",
      "[\"mitigate\"], 322, 91%\n",
      "[\"geoeng\", \"mitigate\", \"remove\", \"adapt\"], 168, 0%\n",
      "[\"geoeng\", \"adapt\"], 304, 81%\n",
      "[\"geoeng\", \"mitigate\", \"adapt\"], 181, 8%\n",
      "[\"mitigate\", \"remove\", \"adapt\"], 236, 40%\n",
      "[\"geoeng\"], 412, 146%\n",
      "[\"geoeng\", \"remove\", \"adapt\"], 280, 67%\n",
      "[\"mitigate\", \"adapt\"], 277, 65%\n",
      "[\"geoeng\", \"mitigate\"], 199, 19%\n",
      "[\"remove\", \"adapt\"] has no solution.\n",
      "[\"geoeng\", \"remove\"], 371, 121%\n",
      "[\"adapt\"] has no solution.\n"
     ]
    }
   ],
   "source": [
    "min_value = Inf\n",
    "for (index, value) in pairs(results)\n",
    "    if (value[\"status\"] == \"Solve_Succeeded\") & (value[\"NPV\"] < min_value)\n",
    "        min_value = value[\"NPV\"]\n",
    "    end\n",
    "end\n",
    "\n",
    "for (index, value) in pairs(results)\n",
    "    if (value[\"status\"] == \"Solve_Succeeded\")\n",
    "        abs_value = Int64(round((value[\"NPV\"])))\n",
    "        rel_value = Int64(round((value[\"NPV\"]/min_value - 1.)*100))\n",
    "        print(\"$index, $abs_value, $rel_value%\\n\")\n",
    "    else\n",
    "        print(\"$index has no solution.\\n\")\n",
    "    end\n",
    "end\n"
   ]
  },
  {
   "cell_type": "code",
   "execution_count": null,
   "metadata": {},
   "outputs": [],
   "source": []
  },
  {
   "cell_type": "code",
   "execution_count": null,
   "metadata": {},
   "outputs": [],
   "source": []
  },
  {
   "cell_type": "code",
   "execution_count": null,
   "metadata": {},
   "outputs": [],
   "source": []
  },
  {
   "cell_type": "code",
   "execution_count": null,
   "metadata": {},
   "outputs": [],
   "source": []
  }
 ],
 "metadata": {
  "kernelspec": {
   "display_name": "Julia 1.3.1",
   "language": "julia",
   "name": "julia-1.3"
  },
  "language_info": {
   "file_extension": ".jl",
   "mimetype": "application/julia",
   "name": "julia",
   "version": "1.3.1"
  }
 },
 "nbformat": 4,
 "nbformat_minor": 4
}
