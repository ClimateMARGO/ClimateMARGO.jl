{
 "cells": [
  {
   "cell_type": "code",
   "execution_count": 8,
   "metadata": {},
   "outputs": [],
   "source": [
    "using PyPlot\n",
    "using JuMP, Ipopt\n",
    "using Combinatorics"
   ]
  },
  {
   "cell_type": "code",
   "execution_count": 9,
   "metadata": {},
   "outputs": [],
   "source": [
    "include(\"../src/model.jl\");\n",
    "include(\"../src/diagnostics.jl\");\n",
    "include(\"../src/optimization.jl\");\n",
    "include(\"../src/plotting.jl\");\n",
    "include(\"../src/defaults.jl\");"
   ]
  },
  {
   "cell_type": "markdown",
   "metadata": {},
   "source": [
    "# Optimizating the Global Climate Action Policy Portfolio"
   ]
  },
  {
   "cell_type": "code",
   "execution_count": 10,
   "metadata": {},
   "outputs": [
    {
     "data": {
      "text/plain": [
       "Dict{String,Float64} with 4 entries:\n",
       "  \"geoeng\"   => 1.0\n",
       "  \"mitigate\" => 1.0\n",
       "  \"remove\"   => 1.0\n",
       "  \"adapt\"    => 0.5"
      ]
     },
     "execution_count": 10,
     "metadata": {},
     "output_type": "execute_result"
    }
   ],
   "source": [
    "model_og = ClimateModel();\n",
    "max_deployment_og = Dict(\"mitigate\"=>1., \"remove\"=>1., \"geoeng\"=>1., \"adapt\"=>1. /2.)"
   ]
  },
  {
   "cell_type": "code",
   "execution_count": 11,
   "metadata": {},
   "outputs": [],
   "source": [
    "controls = collect(keys(max_deployment_og));"
   ]
  },
  {
   "cell_type": "code",
   "execution_count": 12,
   "metadata": {},
   "outputs": [
    {
     "data": {
      "text/plain": [
       "15-element Array{Array{String,1},1}:\n",
       " [\"geoeng\"]                               \n",
       " [\"mitigate\"]                             \n",
       " [\"remove\"]                               \n",
       " [\"adapt\"]                                \n",
       " [\"geoeng\", \"mitigate\"]                   \n",
       " [\"geoeng\", \"remove\"]                     \n",
       " [\"geoeng\", \"adapt\"]                      \n",
       " [\"mitigate\", \"remove\"]                   \n",
       " [\"mitigate\", \"adapt\"]                    \n",
       " [\"remove\", \"adapt\"]                      \n",
       " [\"geoeng\", \"mitigate\", \"remove\"]         \n",
       " [\"geoeng\", \"mitigate\", \"adapt\"]          \n",
       " [\"geoeng\", \"remove\", \"adapt\"]            \n",
       " [\"mitigate\", \"remove\", \"adapt\"]          \n",
       " [\"geoeng\", \"mitigate\", \"remove\", \"adapt\"]"
      ]
     },
     "execution_count": 12,
     "metadata": {},
     "output_type": "execute_result"
    }
   ],
   "source": [
    "control_permutations = combinations(controls) |> collect"
   ]
  },
  {
   "cell_type": "code",
   "execution_count": 13,
   "metadata": {},
   "outputs": [
    {
     "name": "stdout",
     "output_type": "stream",
     "text": [
      "Solve_Succeeded\n",
      "  3.638894 seconds (4.01 M allocations: 198.203 MiB, 2.51% gc time)\n",
      "Solve_Succeeded\n",
      "  0.040634 seconds (97.68 k allocations: 4.107 MiB)\n",
      "Infeasible_Problem_Detected\n",
      "  1.482047 seconds (2.90 M allocations: 54.146 MiB, 3.01% gc time)\n",
      "Infeasible_Problem_Detected\n",
      "  1.142068 seconds (1.24 M allocations: 23.377 MiB)\n",
      "Solve_Succeeded\n",
      "  0.051461 seconds (95.76 k allocations: 4.132 MiB)\n",
      "Solve_Succeeded\n",
      "  0.036729 seconds (74.92 k allocations: 3.755 MiB)\n",
      "Solve_Succeeded\n",
      "  0.038930 seconds (85.05 k allocations: 3.931 MiB)\n",
      "Solve_Succeeded\n",
      "  0.063123 seconds (112.65 k allocations: 4.437 MiB)\n",
      "Solve_Succeeded\n",
      "  0.096029 seconds (126.42 k allocations: 4.692 MiB, 26.21% gc time)\n",
      "Solve_Succeeded\n",
      "  0.074240 seconds (201.53 k allocations: 5.927 MiB)\n",
      "Solve_Succeeded\n",
      "  0.042501 seconds (101.00 k allocations: 4.281 MiB)\n",
      "Solve_Succeeded\n",
      "  0.041743 seconds (101.31 k allocations: 4.282 MiB)\n",
      "Solve_Succeeded\n",
      "  0.033791 seconds (87.53 k allocations: 4.021 MiB)\n",
      "Solve_Succeeded\n",
      "  0.053556 seconds (128.47 k allocations: 4.789 MiB)\n",
      "Solve_Succeeded\n",
      "  0.045968 seconds (109.36 k allocations: 4.474 MiB)\n"
     ]
    }
   ],
   "source": [
    "results = Dict()\n",
    "\n",
    "for control_permutation in control_permutations    \n",
    "    # Assert that some controls not be deployed\n",
    "    max_deployment = copy(max_deployment_og)\n",
    "    for control in controls\n",
    "        if ~(control in control_permutation)\n",
    "            max_deployment[control] = 0\n",
    "        end\n",
    "    end\n",
    "    \n",
    "    model = ClimateModel();\n",
    "    @time m = optimize_controls!(model, max_deployment = max_deployment);\n",
    "    \n",
    "    results[control_permutation] = Dict(\"NPV\" => discounted_total_control_cost(model), \"status\" => raw_status(m))\n",
    "    \n",
    "end"
   ]
  },
  {
   "cell_type": "code",
   "execution_count": 14,
   "metadata": {},
   "outputs": [
    {
     "name": "stdout",
     "output_type": "stream",
     "text": [
      "[\"geoeng\", \"mitigate\", \"remove\"], 143, 5%\n",
      "[\"remove\"] has no solution.\n",
      "[\"mitigate\", \"remove\"], 188, 38%\n",
      "[\"mitigate\"], 322, 136%\n",
      "[\"geoeng\", \"mitigate\", \"remove\", \"adapt\"], 136, 0%\n",
      "[\"geoeng\", \"adapt\"], 285, 109%\n",
      "[\"geoeng\", \"mitigate\", \"adapt\"], 183, 34%\n",
      "[\"mitigate\", \"remove\", \"adapt\"], 179, 31%\n",
      "[\"geoeng\"], 411, 201%\n",
      "[\"geoeng\", \"remove\", \"adapt\"], 222, 63%\n",
      "[\"mitigate\", \"adapt\"], 279, 105%\n",
      "[\"geoeng\", \"mitigate\"], 199, 46%\n",
      "[\"remove\", \"adapt\"], 431, 216%\n",
      "[\"geoeng\", \"remove\"], 267, 96%\n",
      "[\"adapt\"] has no solution.\n"
     ]
    }
   ],
   "source": [
    "min_value = Inf\n",
    "for (index, value) in pairs(results)\n",
    "    if (value[\"status\"] == \"Solve_Succeeded\") & (value[\"NPV\"] < min_value)\n",
    "        min_value = value[\"NPV\"]\n",
    "    end\n",
    "end\n",
    "\n",
    "for (index, value) in pairs(results)\n",
    "    if (value[\"status\"] == \"Solve_Succeeded\")\n",
    "        abs_value = Int64(round((value[\"NPV\"])))\n",
    "        rel_value = Int64(round((value[\"NPV\"]/min_value - 1.)*100))\n",
    "        print(\"$index, $abs_value, $rel_value%\\n\")\n",
    "    else\n",
    "        print(\"$index has no solution.\\n\")\n",
    "    end\n",
    "end\n"
   ]
  },
  {
   "cell_type": "code",
   "execution_count": null,
   "metadata": {},
   "outputs": [],
   "source": []
  },
  {
   "cell_type": "code",
   "execution_count": null,
   "metadata": {},
   "outputs": [],
   "source": []
  },
  {
   "cell_type": "code",
   "execution_count": null,
   "metadata": {},
   "outputs": [],
   "source": []
  }
 ],
 "metadata": {
  "kernelspec": {
   "display_name": "Julia 1.3.1",
   "language": "julia",
   "name": "julia-1.3"
  },
  "language_info": {
   "file_extension": ".jl",
   "mimetype": "application/julia",
   "name": "julia",
   "version": "1.3.1"
  }
 },
 "nbformat": 4,
 "nbformat_minor": 4
}
